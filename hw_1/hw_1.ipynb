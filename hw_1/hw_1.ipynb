{
 "cells": [
  {
   "cell_type": "code",
   "execution_count": 1,
   "id": "ae6a6adb",
   "metadata": {},
   "outputs": [],
   "source": [
    "import numpy as np\n",
    "import pandas as pd\n",
    "from sklearn.linear_model import LinearRegression\n",
    "\n",
    "import matplotlib.pyplot as plt"
   ]
  },
  {
   "cell_type": "code",
   "execution_count": 2,
   "id": "3cd24773",
   "metadata": {},
   "outputs": [
    {
     "data": {
      "text/html": [
       "<div>\n",
       "<style scoped>\n",
       "    .dataframe tbody tr th:only-of-type {\n",
       "        vertical-align: middle;\n",
       "    }\n",
       "\n",
       "    .dataframe tbody tr th {\n",
       "        vertical-align: top;\n",
       "    }\n",
       "\n",
       "    .dataframe thead th {\n",
       "        text-align: right;\n",
       "    }\n",
       "</style>\n",
       "<table border=\"1\" class=\"dataframe\">\n",
       "  <thead>\n",
       "    <tr style=\"text-align: right;\">\n",
       "      <th></th>\n",
       "      <th>timestamp</th>\n",
       "      <th>num_1</th>\n",
       "      <th>num_500</th>\n",
       "      <th>sum</th>\n",
       "    </tr>\n",
       "  </thead>\n",
       "  <tbody>\n",
       "    <tr>\n",
       "      <th>52</th>\n",
       "      <td>2019-5-1</td>\n",
       "      <td>06/2019: #1 = 148.6 PFlop/s</td>\n",
       "      <td>06/2019: #500 = 1.0 PFlop/s]</td>\n",
       "      <td>06/2019: Sum = 1.6 EFlop/s</td>\n",
       "    </tr>\n",
       "    <tr>\n",
       "      <th>53</th>\n",
       "      <td>2019-10-1</td>\n",
       "      <td>11/2019: #1 = 148.6 PFlop/s</td>\n",
       "      <td>11/2019: #500 = 1.1 PFlop/s]</td>\n",
       "      <td>11/2019: Sum = 1.6 EFlop/s</td>\n",
       "    </tr>\n",
       "    <tr>\n",
       "      <th>54</th>\n",
       "      <td>2020-5-1</td>\n",
       "      <td>06/2020: #1 = 415.5 PFlop/s</td>\n",
       "      <td>06/2020: #500 = 1.2 PFlop/s]</td>\n",
       "      <td>06/2020: Sum = 2.2 EFlop/s</td>\n",
       "    </tr>\n",
       "    <tr>\n",
       "      <th>55</th>\n",
       "      <td>2020-10-1</td>\n",
       "      <td>11/2020: #1 = 442.0 PFlop/s</td>\n",
       "      <td>11/2020: #500 = 1.3 PFlop/s]</td>\n",
       "      <td>11/2020: Sum = 2.4 EFlop/s</td>\n",
       "    </tr>\n",
       "    <tr>\n",
       "      <th>56</th>\n",
       "      <td>2021-5-1</td>\n",
       "      <td>06/2021: #1 = 442.0 PFlop/s</td>\n",
       "      <td>06/2021: #500 = 1.5 PFlop/s]</td>\n",
       "      <td>06/2021: Sum = 2.8 EFlop/s</td>\n",
       "    </tr>\n",
       "  </tbody>\n",
       "</table>\n",
       "</div>"
      ],
      "text/plain": [
       "    timestamp                        num_1                       num_500  \\\n",
       "52   2019-5-1  06/2019: #1 = 148.6 PFlop/s  06/2019: #500 = 1.0 PFlop/s]   \n",
       "53  2019-10-1  11/2019: #1 = 148.6 PFlop/s  11/2019: #500 = 1.1 PFlop/s]   \n",
       "54   2020-5-1  06/2020: #1 = 415.5 PFlop/s  06/2020: #500 = 1.2 PFlop/s]   \n",
       "55  2020-10-1  11/2020: #1 = 442.0 PFlop/s  11/2020: #500 = 1.3 PFlop/s]   \n",
       "56   2021-5-1  06/2021: #1 = 442.0 PFlop/s  06/2021: #500 = 1.5 PFlop/s]   \n",
       "\n",
       "                           sum  \n",
       "52  06/2019: Sum = 1.6 EFlop/s  \n",
       "53  11/2019: Sum = 1.6 EFlop/s  \n",
       "54  06/2020: Sum = 2.2 EFlop/s  \n",
       "55  11/2020: Sum = 2.4 EFlop/s  \n",
       "56  06/2021: Sum = 2.8 EFlop/s  "
      ]
     },
     "execution_count": 2,
     "metadata": {},
     "output_type": "execute_result"
    }
   ],
   "source": [
    "ya_path = 'development.csv'\n",
    "ya_data_df = pd.read_csv(ya_path, names=['timestamp', 't', 'sum', 't_1', 'num_1', 't_2', 'num_500'])\n",
    "ya_data_df = ya_data_df[['timestamp', 'num_1', 'num_500', 'sum']].copy()\n",
    "ya_data_df.tail(5)"
   ]
  },
  {
   "cell_type": "markdown",
   "id": "03b772f4",
   "metadata": {},
   "source": [
    "# preprocess"
   ]
  },
  {
   "cell_type": "code",
   "execution_count": 3,
   "id": "b547ac29",
   "metadata": {},
   "outputs": [
    {
     "data": {
      "text/html": [
       "<div>\n",
       "<style scoped>\n",
       "    .dataframe tbody tr th:only-of-type {\n",
       "        vertical-align: middle;\n",
       "    }\n",
       "\n",
       "    .dataframe tbody tr th {\n",
       "        vertical-align: top;\n",
       "    }\n",
       "\n",
       "    .dataframe thead th {\n",
       "        text-align: right;\n",
       "    }\n",
       "</style>\n",
       "<table border=\"1\" class=\"dataframe\">\n",
       "  <thead>\n",
       "    <tr style=\"text-align: right;\">\n",
       "      <th></th>\n",
       "      <th>timestamp</th>\n",
       "      <th>num_1</th>\n",
       "      <th>num_500</th>\n",
       "      <th>sum</th>\n",
       "    </tr>\n",
       "  </thead>\n",
       "  <tbody>\n",
       "    <tr>\n",
       "      <th>52</th>\n",
       "      <td>9496</td>\n",
       "      <td>1.486000e+17</td>\n",
       "      <td>1.000000e+15</td>\n",
       "      <td>1.600000e+18</td>\n",
       "    </tr>\n",
       "    <tr>\n",
       "      <th>53</th>\n",
       "      <td>9649</td>\n",
       "      <td>1.486000e+17</td>\n",
       "      <td>1.100000e+15</td>\n",
       "      <td>1.600000e+18</td>\n",
       "    </tr>\n",
       "    <tr>\n",
       "      <th>54</th>\n",
       "      <td>9862</td>\n",
       "      <td>4.155000e+17</td>\n",
       "      <td>1.200000e+15</td>\n",
       "      <td>2.200000e+18</td>\n",
       "    </tr>\n",
       "    <tr>\n",
       "      <th>55</th>\n",
       "      <td>10015</td>\n",
       "      <td>4.420000e+17</td>\n",
       "      <td>1.300000e+15</td>\n",
       "      <td>2.400000e+18</td>\n",
       "    </tr>\n",
       "    <tr>\n",
       "      <th>56</th>\n",
       "      <td>10227</td>\n",
       "      <td>4.420000e+17</td>\n",
       "      <td>1.500000e+15</td>\n",
       "      <td>2.800000e+18</td>\n",
       "    </tr>\n",
       "  </tbody>\n",
       "</table>\n",
       "</div>"
      ],
      "text/plain": [
       "    timestamp         num_1       num_500           sum\n",
       "52       9496  1.486000e+17  1.000000e+15  1.600000e+18\n",
       "53       9649  1.486000e+17  1.100000e+15  1.600000e+18\n",
       "54       9862  4.155000e+17  1.200000e+15  2.200000e+18\n",
       "55      10015  4.420000e+17  1.300000e+15  2.400000e+18\n",
       "56      10227  4.420000e+17  1.500000e+15  2.800000e+18"
      ]
     },
     "execution_count": 3,
     "metadata": {},
     "output_type": "execute_result"
    }
   ],
   "source": [
    "def converter(postfix):\n",
    "    if postfix == 'GFlop/s':\n",
    "        return 10 ** 9\n",
    "    elif postfix == 'TFlop/s':\n",
    "        return 10 ** 12\n",
    "    elif postfix == 'PFlop/s':\n",
    "        return 10 ** 15\n",
    "    return 10 ** 18\n",
    "\n",
    "ya_data_df['num_1'] = ya_data_df['num_1'].str.split(' ').apply(lambda x: float(x[-2]) * converter(x[-1]))\n",
    "ya_data_df['num_500'] = ya_data_df['num_500'].str.split(' ').apply(lambda x: float(x[-2]) * converter(x[-1][:-1]))\n",
    "ya_data_df['sum'] = ya_data_df['sum'].str.split(' ').apply(lambda x: float(x[-2]) * converter(x[-1]))\n",
    "ya_data_df['timestamp'] = pd.to_datetime(ya_data_df['timestamp'])\n",
    "ya_data_df['timestamp']  = (ya_data_df['timestamp'] - pd.Timestamp(\"1993-05-01\")).dt.days.values\n",
    "ya_data_df.tail(5)"
   ]
  },
  {
   "cell_type": "code",
   "execution_count": 4,
   "id": "7f7a0355",
   "metadata": {},
   "outputs": [
    {
     "data": {
      "text/plain": [
       "LinearRegression()"
      ]
     },
     "execution_count": 4,
     "metadata": {},
     "output_type": "execute_result"
    }
   ],
   "source": [
    "model = LinearRegression()\n",
    "\n",
    "x_df = ya_data_df[['timestamp']].copy()\n",
    "x_df['x_2'] = x_df['timestamp'] ** 2\n",
    "y = (ya_data_df['num_1'].values).reshape(-1, 1)\n",
    "model.fit(x_df, np.log(y))"
   ]
  },
  {
   "cell_type": "code",
   "execution_count": 5,
   "id": "fd3df41b",
   "metadata": {},
   "outputs": [],
   "source": [
    "x_df['num_1_pred'] = np.exp(model.predict(x_df))"
   ]
  },
  {
   "cell_type": "code",
   "execution_count": 6,
   "id": "4f064abf",
   "metadata": {},
   "outputs": [
    {
     "data": {
      "text/plain": [
       "<AxesSubplot:xlabel='timestamp'>"
      ]
     },
     "execution_count": 6,
     "metadata": {},
     "output_type": "execute_result"
    },
    {
     "data": {
      "image/png": "[encoded data removed]",
      "text/plain": [
       "<Figure size 864x576 with 1 Axes>"
      ]
     },
     "metadata": {
      "needs_background": "light"
     },
     "output_type": "display_data"
    }
   ],
   "source": [
    "plt.figure(figsize=(12, 8))\n",
    "ax = plt.subplot()\n",
    "ya_data_df.plot('timestamp', ['num_1', 'num_500', 'sum'], ax=ax, logy=True)\n",
    "x_df.plot('timestamp', ['num_1_pred'], ax=ax, logy=True)"
   ]
  },
  {
   "cell_type": "code",
   "execution_count": 7,
   "id": "2e380105",
   "metadata": {},
   "outputs": [],
   "source": [
    "pred_day = (pd.Timestamp(\"2021-01-01\") - pd.Timestamp(\"1993-05-01\")).days\n",
    "pred_day_features = pd.DataFrame([[pred_day, pred_day** 2]])"
   ]
  },
  {
   "cell_type": "code",
   "execution_count": 8,
   "id": "d47ab9d7",
   "metadata": {},
   "outputs": [
    {
     "name": "stdout",
     "output_type": "stream",
     "text": [
      "[[5.31197838e+17]] [[531.]] PFlop/s\n"
     ]
    }
   ],
   "source": [
    "ans = np.exp(model.predict(pred_day_features))\n",
    "print(ans, ans // 10 ** 15, \"PFlop/s\")\n",
    "#1 = 531.1 PFlop/s"
   ]
  },
  {
   "cell_type": "markdown",
   "id": "884519a8",
   "metadata": {},
   "source": [
    "# Total supply"
   ]
  },
  {
   "cell_type": "code",
   "execution_count": 9,
   "id": "6ae35d42",
   "metadata": {},
   "outputs": [
    {
     "data": {
      "text/html": [
       "<div>\n",
       "<style scoped>\n",
       "    .dataframe tbody tr th:only-of-type {\n",
       "        vertical-align: middle;\n",
       "    }\n",
       "\n",
       "    .dataframe tbody tr th {\n",
       "        vertical-align: top;\n",
       "    }\n",
       "\n",
       "    .dataframe thead th {\n",
       "        text-align: right;\n",
       "    }\n",
       "</style>\n",
       "<table border=\"1\" class=\"dataframe\">\n",
       "  <thead>\n",
       "    <tr style=\"text-align: right;\">\n",
       "      <th></th>\n",
       "      <th>Rank</th>\n",
       "      <th>Previous Rank</th>\n",
       "      <th>First Appearance</th>\n",
       "      <th>First Rank</th>\n",
       "      <th>Name</th>\n",
       "      <th>Computer</th>\n",
       "      <th>Site</th>\n",
       "      <th>Manufacturer</th>\n",
       "      <th>Country</th>\n",
       "      <th>Year</th>\n",
       "      <th>...</th>\n",
       "      <th>Accelerator/Co-Processor</th>\n",
       "      <th>Cores per Socket</th>\n",
       "      <th>Processor Generation</th>\n",
       "      <th>System Model</th>\n",
       "      <th>System Family</th>\n",
       "      <th>Interconnect Family</th>\n",
       "      <th>Interconnect</th>\n",
       "      <th>Continent</th>\n",
       "      <th>Site ID</th>\n",
       "      <th>System ID</th>\n",
       "    </tr>\n",
       "  </thead>\n",
       "  <tbody>\n",
       "    <tr>\n",
       "      <th>0</th>\n",
       "      <td>1</td>\n",
       "      <td>1.0</td>\n",
       "      <td>55</td>\n",
       "      <td>1</td>\n",
       "      <td>Supercomputer Fugaku</td>\n",
       "      <td>Supercomputer Fugaku, A64FX 48C 2.2GHz, Tofu i...</td>\n",
       "      <td>RIKEN Center for Computational Science</td>\n",
       "      <td>Fujitsu</td>\n",
       "      <td>Japan</td>\n",
       "      <td>2020</td>\n",
       "      <td>...</td>\n",
       "      <td>None</td>\n",
       "      <td>48</td>\n",
       "      <td>Fujitsu A64FX</td>\n",
       "      <td>Supercomputer Fugaku</td>\n",
       "      <td>Fujitsu Cluster</td>\n",
       "      <td>Proprietary Network</td>\n",
       "      <td>Tofu interconnect D</td>\n",
       "      <td>Asia</td>\n",
       "      <td>50 831</td>\n",
       "      <td>179807</td>\n",
       "    </tr>\n",
       "    <tr>\n",
       "      <th>1</th>\n",
       "      <td>2</td>\n",
       "      <td>2.0</td>\n",
       "      <td>51</td>\n",
       "      <td>1</td>\n",
       "      <td>Summit</td>\n",
       "      <td>IBM Power System AC922, IBM POWER9 22C 3.07GHz...</td>\n",
       "      <td>DOE/SC/Oak Ridge National Laboratory</td>\n",
       "      <td>IBM</td>\n",
       "      <td>United States</td>\n",
       "      <td>2018</td>\n",
       "      <td>...</td>\n",
       "      <td>NVIDIA Volta GV100</td>\n",
       "      <td>22</td>\n",
       "      <td>IBM POWER9</td>\n",
       "      <td>IBM Power System AC922</td>\n",
       "      <td>IBM Power Systems</td>\n",
       "      <td>Infiniband</td>\n",
       "      <td>Dual-rail Mellanox EDR Infiniband</td>\n",
       "      <td>North America</td>\n",
       "      <td>48 553</td>\n",
       "      <td>179397</td>\n",
       "    </tr>\n",
       "  </tbody>\n",
       "</table>\n",
       "<p>2 rows × 38 columns</p>\n",
       "</div>"
      ],
      "text/plain": [
       "   Rank  Previous Rank  First Appearance  First Rank                  Name  \\\n",
       "0     1            1.0                55           1  Supercomputer Fugaku   \n",
       "1     2            2.0                51           1                Summit   \n",
       "\n",
       "                                            Computer  \\\n",
       "0  Supercomputer Fugaku, A64FX 48C 2.2GHz, Tofu i...   \n",
       "1  IBM Power System AC922, IBM POWER9 22C 3.07GHz...   \n",
       "\n",
       "                                     Site Manufacturer        Country  Year  \\\n",
       "0  RIKEN Center for Computational Science      Fujitsu          Japan  2020   \n",
       "1    DOE/SC/Oak Ridge National Laboratory          IBM  United States  2018   \n",
       "\n",
       "   ... Accelerator/Co-Processor Cores per Socket Processor Generation  \\\n",
       "0  ...                     None               48        Fujitsu A64FX   \n",
       "1  ...       NVIDIA Volta GV100               22           IBM POWER9   \n",
       "\n",
       "             System Model       System Family  Interconnect Family  \\\n",
       "0    Supercomputer Fugaku     Fujitsu Cluster  Proprietary Network   \n",
       "1  IBM Power System AC922   IBM Power Systems           Infiniband   \n",
       "\n",
       "                        Interconnect      Continent Site ID System ID  \n",
       "0                Tofu interconnect D           Asia  50 831    179807  \n",
       "1  Dual-rail Mellanox EDR Infiniband  North America  48 553    179397  \n",
       "\n",
       "[2 rows x 38 columns]"
      ]
     },
     "execution_count": 9,
     "metadata": {},
     "output_type": "execute_result"
    }
   ],
   "source": [
    "# https://en.wikipedia.org/wiki/List_of_countries_by_electricity_production\n",
    "TOTAL_POWER_SUPPLY = 26823200 * 10 ** 9\n",
    "path = 'TOP500_202106.csv'\n",
    "data_df = pd.read_csv(path, sep=';')\n",
    "data_df.head(2)"
   ]
  },
  {
   "cell_type": "code",
   "execution_count": 10,
   "id": "e16e390f",
   "metadata": {},
   "outputs": [],
   "source": [
    "data_df['power'] = data_df['Power (kW)'].str.replace(u'\\xa0', '').str.replace(',', '.').astype(float) * 1e3\n",
    "median_power = data_df['power'].median()\n",
    "data_df['power'] = data_df['power'].fillna(median_power)\n",
    "total_super_power = data_df['power'].sum() * 24 * 365"
   ]
  },
  {
   "cell_type": "code",
   "execution_count": 11,
   "id": "26b2556e",
   "metadata": {},
   "outputs": [
    {
     "data": {
      "text/plain": [
       "0.02105986795311521"
      ]
     },
     "execution_count": 11,
     "metadata": {},
     "output_type": "execute_result"
    }
   ],
   "source": [
    "total_super_power / TOTAL_POWER_SUPPLY * 100"
   ]
  },
  {
   "cell_type": "code",
   "execution_count": null,
   "id": "84b4f40e",
   "metadata": {},
   "outputs": [],
   "source": []
  }
 ],
 "metadata": {
  "kernelspec": {
   "display_name": "Python 3",
   "language": "python",
   "name": "python3"
  },
  "language_info": {
   "codemirror_mode": {
    "name": "ipython",
    "version": 3
   },
   "file_extension": ".py",
   "mimetype": "text/x-python",
   "name": "python",
   "nbconvert_exporter": "python",
   "pygments_lexer": "ipython3",
   "version": "3.9.5"
  }
 },
 "nbformat": 4,
 "nbformat_minor": 5
}
